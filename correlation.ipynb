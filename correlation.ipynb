{
 "cells": [
  {
   "cell_type": "code",
   "execution_count": 1,
   "id": "40af2c93",
   "metadata": {},
   "outputs": [],
   "source": [
    "# import libraries\n",
    "import numpy as np\n",
    "import pandas as pd\n",
    "import matplotlib.pyplot as plt\n",
    "import seaborn as sns\n",
    "sns.set()"
   ]
  },
  {
   "cell_type": "markdown",
   "id": "f5b89826",
   "metadata": {},
   "source": [
    "### Data exploration"
   ]
  },
  {
   "cell_type": "code",
   "execution_count": 2,
   "id": "f8fa7011",
   "metadata": {
    "scrolled": true
   },
   "outputs": [
    {
     "data": {
      "text/html": [
       "<div>\n",
       "<style scoped>\n",
       "    .dataframe tbody tr th:only-of-type {\n",
       "        vertical-align: middle;\n",
       "    }\n",
       "\n",
       "    .dataframe tbody tr th {\n",
       "        vertical-align: top;\n",
       "    }\n",
       "\n",
       "    .dataframe thead th {\n",
       "        text-align: right;\n",
       "    }\n",
       "</style>\n",
       "<table border=\"1\" class=\"dataframe\">\n",
       "  <thead>\n",
       "    <tr style=\"text-align: right;\">\n",
       "      <th></th>\n",
       "      <th>name</th>\n",
       "      <th>rating</th>\n",
       "      <th>genre</th>\n",
       "      <th>year</th>\n",
       "      <th>released</th>\n",
       "      <th>score</th>\n",
       "      <th>votes</th>\n",
       "      <th>director</th>\n",
       "      <th>writer</th>\n",
       "      <th>star</th>\n",
       "      <th>country</th>\n",
       "      <th>budget</th>\n",
       "      <th>gross</th>\n",
       "      <th>company</th>\n",
       "      <th>runtime</th>\n",
       "    </tr>\n",
       "  </thead>\n",
       "  <tbody>\n",
       "    <tr>\n",
       "      <th>0</th>\n",
       "      <td>The Shining</td>\n",
       "      <td>R</td>\n",
       "      <td>Drama</td>\n",
       "      <td>1980</td>\n",
       "      <td>June 13, 1980 (United States)</td>\n",
       "      <td>8.4</td>\n",
       "      <td>927000.0</td>\n",
       "      <td>Stanley Kubrick</td>\n",
       "      <td>Stephen King</td>\n",
       "      <td>Jack Nicholson</td>\n",
       "      <td>United Kingdom</td>\n",
       "      <td>19000000.0</td>\n",
       "      <td>46998772.0</td>\n",
       "      <td>Warner Bros.</td>\n",
       "      <td>146.0</td>\n",
       "    </tr>\n",
       "    <tr>\n",
       "      <th>1</th>\n",
       "      <td>The Blue Lagoon</td>\n",
       "      <td>R</td>\n",
       "      <td>Adventure</td>\n",
       "      <td>1980</td>\n",
       "      <td>July 2, 1980 (United States)</td>\n",
       "      <td>5.8</td>\n",
       "      <td>65000.0</td>\n",
       "      <td>Randal Kleiser</td>\n",
       "      <td>Henry De Vere Stacpoole</td>\n",
       "      <td>Brooke Shields</td>\n",
       "      <td>United States</td>\n",
       "      <td>4500000.0</td>\n",
       "      <td>58853106.0</td>\n",
       "      <td>Columbia Pictures</td>\n",
       "      <td>104.0</td>\n",
       "    </tr>\n",
       "    <tr>\n",
       "      <th>2</th>\n",
       "      <td>Star Wars: Episode V - The Empire Strikes Back</td>\n",
       "      <td>PG</td>\n",
       "      <td>Action</td>\n",
       "      <td>1980</td>\n",
       "      <td>June 20, 1980 (United States)</td>\n",
       "      <td>8.7</td>\n",
       "      <td>1200000.0</td>\n",
       "      <td>Irvin Kershner</td>\n",
       "      <td>Leigh Brackett</td>\n",
       "      <td>Mark Hamill</td>\n",
       "      <td>United States</td>\n",
       "      <td>18000000.0</td>\n",
       "      <td>538375067.0</td>\n",
       "      <td>Lucasfilm</td>\n",
       "      <td>124.0</td>\n",
       "    </tr>\n",
       "    <tr>\n",
       "      <th>3</th>\n",
       "      <td>Airplane!</td>\n",
       "      <td>PG</td>\n",
       "      <td>Comedy</td>\n",
       "      <td>1980</td>\n",
       "      <td>July 2, 1980 (United States)</td>\n",
       "      <td>7.7</td>\n",
       "      <td>221000.0</td>\n",
       "      <td>Jim Abrahams</td>\n",
       "      <td>Jim Abrahams</td>\n",
       "      <td>Robert Hays</td>\n",
       "      <td>United States</td>\n",
       "      <td>3500000.0</td>\n",
       "      <td>83453539.0</td>\n",
       "      <td>Paramount Pictures</td>\n",
       "      <td>88.0</td>\n",
       "    </tr>\n",
       "    <tr>\n",
       "      <th>4</th>\n",
       "      <td>Caddyshack</td>\n",
       "      <td>R</td>\n",
       "      <td>Comedy</td>\n",
       "      <td>1980</td>\n",
       "      <td>July 25, 1980 (United States)</td>\n",
       "      <td>7.3</td>\n",
       "      <td>108000.0</td>\n",
       "      <td>Harold Ramis</td>\n",
       "      <td>Brian Doyle-Murray</td>\n",
       "      <td>Chevy Chase</td>\n",
       "      <td>United States</td>\n",
       "      <td>6000000.0</td>\n",
       "      <td>39846344.0</td>\n",
       "      <td>Orion Pictures</td>\n",
       "      <td>98.0</td>\n",
       "    </tr>\n",
       "  </tbody>\n",
       "</table>\n",
       "</div>"
      ],
      "text/plain": [
       "                                             name rating      genre  year  \\\n",
       "0                                     The Shining      R      Drama  1980   \n",
       "1                                 The Blue Lagoon      R  Adventure  1980   \n",
       "2  Star Wars: Episode V - The Empire Strikes Back     PG     Action  1980   \n",
       "3                                       Airplane!     PG     Comedy  1980   \n",
       "4                                      Caddyshack      R     Comedy  1980   \n",
       "\n",
       "                        released  score      votes         director  \\\n",
       "0  June 13, 1980 (United States)    8.4   927000.0  Stanley Kubrick   \n",
       "1   July 2, 1980 (United States)    5.8    65000.0   Randal Kleiser   \n",
       "2  June 20, 1980 (United States)    8.7  1200000.0   Irvin Kershner   \n",
       "3   July 2, 1980 (United States)    7.7   221000.0     Jim Abrahams   \n",
       "4  July 25, 1980 (United States)    7.3   108000.0     Harold Ramis   \n",
       "\n",
       "                    writer            star         country      budget  \\\n",
       "0             Stephen King  Jack Nicholson  United Kingdom  19000000.0   \n",
       "1  Henry De Vere Stacpoole  Brooke Shields   United States   4500000.0   \n",
       "2           Leigh Brackett     Mark Hamill   United States  18000000.0   \n",
       "3             Jim Abrahams     Robert Hays   United States   3500000.0   \n",
       "4       Brian Doyle-Murray     Chevy Chase   United States   6000000.0   \n",
       "\n",
       "         gross             company  runtime  \n",
       "0   46998772.0        Warner Bros.    146.0  \n",
       "1   58853106.0   Columbia Pictures    104.0  \n",
       "2  538375067.0           Lucasfilm    124.0  \n",
       "3   83453539.0  Paramount Pictures     88.0  \n",
       "4   39846344.0      Orion Pictures     98.0  "
      ]
     },
     "execution_count": 2,
     "metadata": {},
     "output_type": "execute_result"
    }
   ],
   "source": [
    "df = pd.read_csv(\"./movies.csv\")\n",
    "# dataframe overview\n",
    "df.head()"
   ]
  },
  {
   "cell_type": "code",
   "execution_count": 3,
   "id": "1861caaa",
   "metadata": {
    "scrolled": true
   },
   "outputs": [
    {
     "data": {
      "text/plain": [
       "Index(['name', 'rating', 'genre', 'year', 'released', 'score', 'votes',\n",
       "       'director', 'writer', 'star', 'country', 'budget', 'gross', 'company',\n",
       "       'runtime'],\n",
       "      dtype='object')"
      ]
     },
     "execution_count": 3,
     "metadata": {},
     "output_type": "execute_result"
    }
   ],
   "source": [
    "df.columns"
   ]
  },
  {
   "cell_type": "code",
   "execution_count": 4,
   "id": "4f420148",
   "metadata": {
    "scrolled": false
   },
   "outputs": [
    {
     "name": "stdout",
     "output_type": "stream",
     "text": [
      "rating  has  77  rows empty\n",
      "released  has  2  rows empty\n",
      "score  has  3  rows empty\n",
      "votes  has  3  rows empty\n",
      "writer  has  3  rows empty\n",
      "star  has  1  rows empty\n",
      "country  has  3  rows empty\n",
      "budget  has  2171  rows empty\n",
      "gross  has  189  rows empty\n",
      "company  has  17  rows empty\n",
      "runtime  has  4  rows empty\n"
     ]
    }
   ],
   "source": [
    "for i in df.columns:    \n",
    "    if df[i].isna().sum() != 0:\n",
    "        print(i, \" has \",df[i].isna().sum(), \" rows empty\")"
   ]
  },
  {
   "cell_type": "code",
   "execution_count": 32,
   "id": "00aa5b56",
   "metadata": {
    "scrolled": true
   },
   "outputs": [
    {
     "data": {
      "text/plain": [
       "array(['R', 'PG', 'G', 'Not Rated', 'NC-17', 'Approved', 'TV-PG', 'PG-13',\n",
       "       'Unrated', 'X', 'TV-MA', 'TV-14'], dtype=object)"
      ]
     },
     "execution_count": 32,
     "metadata": {},
     "output_type": "execute_result"
    }
   ],
   "source": [
    "# Unique values in rating column\n",
    "df.rating.unique()"
   ]
  },
  {
   "cell_type": "code",
   "execution_count": 6,
   "id": "644d67a6",
   "metadata": {},
   "outputs": [
    {
     "data": {
      "text/plain": [
       "nan"
      ]
     },
     "execution_count": 6,
     "metadata": {},
     "output_type": "execute_result"
    }
   ],
   "source": [
    "df.rating.unique()[3]"
   ]
  },
  {
   "cell_type": "code",
   "execution_count": 7,
   "id": "7524af8b",
   "metadata": {
    "scrolled": true
   },
   "outputs": [
    {
     "data": {
      "text/plain": [
       "0         R\n",
       "1         R\n",
       "2        PG\n",
       "3        PG\n",
       "4         R\n",
       "       ... \n",
       "7663    NaN\n",
       "7664    NaN\n",
       "7665    NaN\n",
       "7666    NaN\n",
       "7667    NaN\n",
       "Name: rating, Length: 7668, dtype: object"
      ]
     },
     "execution_count": 7,
     "metadata": {},
     "output_type": "execute_result"
    }
   ],
   "source": [
    "df.rating"
   ]
  },
  {
   "cell_type": "code",
   "execution_count": 33,
   "id": "68ca390e",
   "metadata": {
    "scrolled": true
   },
   "outputs": [
    {
     "data": {
      "text/plain": [
       "Int64Index([], dtype='int64')"
      ]
     },
     "execution_count": 33,
     "metadata": {},
     "output_type": "execute_result"
    }
   ],
   "source": [
    "# to obtain index of all the rows of column rating having NaN\n",
    "k = df[df.rating.isna() == True].index\n",
    "k"
   ]
  },
  {
   "cell_type": "markdown",
   "id": "20e576b9",
   "metadata": {},
   "source": [
    "### Data Cleaning"
   ]
  },
  {
   "cell_type": "code",
   "execution_count": 9,
   "id": "b0d3cb81",
   "metadata": {
    "scrolled": true
   },
   "outputs": [
    {
     "data": {
      "text/html": [
       "<div>\n",
       "<style scoped>\n",
       "    .dataframe tbody tr th:only-of-type {\n",
       "        vertical-align: middle;\n",
       "    }\n",
       "\n",
       "    .dataframe tbody tr th {\n",
       "        vertical-align: top;\n",
       "    }\n",
       "\n",
       "    .dataframe thead th {\n",
       "        text-align: right;\n",
       "    }\n",
       "</style>\n",
       "<table border=\"1\" class=\"dataframe\">\n",
       "  <thead>\n",
       "    <tr style=\"text-align: right;\">\n",
       "      <th></th>\n",
       "      <th>name</th>\n",
       "      <th>rating</th>\n",
       "      <th>genre</th>\n",
       "      <th>year</th>\n",
       "      <th>released</th>\n",
       "      <th>score</th>\n",
       "      <th>votes</th>\n",
       "      <th>director</th>\n",
       "      <th>writer</th>\n",
       "      <th>star</th>\n",
       "      <th>country</th>\n",
       "      <th>budget</th>\n",
       "      <th>gross</th>\n",
       "      <th>company</th>\n",
       "      <th>runtime</th>\n",
       "    </tr>\n",
       "  </thead>\n",
       "  <tbody>\n",
       "    <tr>\n",
       "      <th>0</th>\n",
       "      <td>The Shining</td>\n",
       "      <td>R</td>\n",
       "      <td>Drama</td>\n",
       "      <td>1980</td>\n",
       "      <td>June 13, 1980 (United States)</td>\n",
       "      <td>8.4</td>\n",
       "      <td>927000.0</td>\n",
       "      <td>Stanley Kubrick</td>\n",
       "      <td>Stephen King</td>\n",
       "      <td>Jack Nicholson</td>\n",
       "      <td>United Kingdom</td>\n",
       "      <td>19000000.0</td>\n",
       "      <td>46998772.0</td>\n",
       "      <td>Warner Bros.</td>\n",
       "      <td>146.0</td>\n",
       "    </tr>\n",
       "    <tr>\n",
       "      <th>1</th>\n",
       "      <td>The Blue Lagoon</td>\n",
       "      <td>R</td>\n",
       "      <td>Adventure</td>\n",
       "      <td>1980</td>\n",
       "      <td>July 2, 1980 (United States)</td>\n",
       "      <td>5.8</td>\n",
       "      <td>65000.0</td>\n",
       "      <td>Randal Kleiser</td>\n",
       "      <td>Henry De Vere Stacpoole</td>\n",
       "      <td>Brooke Shields</td>\n",
       "      <td>United States</td>\n",
       "      <td>4500000.0</td>\n",
       "      <td>58853106.0</td>\n",
       "      <td>Columbia Pictures</td>\n",
       "      <td>104.0</td>\n",
       "    </tr>\n",
       "    <tr>\n",
       "      <th>2</th>\n",
       "      <td>Star Wars: Episode V - The Empire Strikes Back</td>\n",
       "      <td>PG</td>\n",
       "      <td>Action</td>\n",
       "      <td>1980</td>\n",
       "      <td>June 20, 1980 (United States)</td>\n",
       "      <td>8.7</td>\n",
       "      <td>1200000.0</td>\n",
       "      <td>Irvin Kershner</td>\n",
       "      <td>Leigh Brackett</td>\n",
       "      <td>Mark Hamill</td>\n",
       "      <td>United States</td>\n",
       "      <td>18000000.0</td>\n",
       "      <td>538375067.0</td>\n",
       "      <td>Lucasfilm</td>\n",
       "      <td>124.0</td>\n",
       "    </tr>\n",
       "    <tr>\n",
       "      <th>3</th>\n",
       "      <td>Airplane!</td>\n",
       "      <td>PG</td>\n",
       "      <td>Comedy</td>\n",
       "      <td>1980</td>\n",
       "      <td>July 2, 1980 (United States)</td>\n",
       "      <td>7.7</td>\n",
       "      <td>221000.0</td>\n",
       "      <td>Jim Abrahams</td>\n",
       "      <td>Jim Abrahams</td>\n",
       "      <td>Robert Hays</td>\n",
       "      <td>United States</td>\n",
       "      <td>3500000.0</td>\n",
       "      <td>83453539.0</td>\n",
       "      <td>Paramount Pictures</td>\n",
       "      <td>88.0</td>\n",
       "    </tr>\n",
       "    <tr>\n",
       "      <th>4</th>\n",
       "      <td>Caddyshack</td>\n",
       "      <td>R</td>\n",
       "      <td>Comedy</td>\n",
       "      <td>1980</td>\n",
       "      <td>July 25, 1980 (United States)</td>\n",
       "      <td>7.3</td>\n",
       "      <td>108000.0</td>\n",
       "      <td>Harold Ramis</td>\n",
       "      <td>Brian Doyle-Murray</td>\n",
       "      <td>Chevy Chase</td>\n",
       "      <td>United States</td>\n",
       "      <td>6000000.0</td>\n",
       "      <td>39846344.0</td>\n",
       "      <td>Orion Pictures</td>\n",
       "      <td>98.0</td>\n",
       "    </tr>\n",
       "    <tr>\n",
       "      <th>...</th>\n",
       "      <td>...</td>\n",
       "      <td>...</td>\n",
       "      <td>...</td>\n",
       "      <td>...</td>\n",
       "      <td>...</td>\n",
       "      <td>...</td>\n",
       "      <td>...</td>\n",
       "      <td>...</td>\n",
       "      <td>...</td>\n",
       "      <td>...</td>\n",
       "      <td>...</td>\n",
       "      <td>...</td>\n",
       "      <td>...</td>\n",
       "      <td>...</td>\n",
       "      <td>...</td>\n",
       "    </tr>\n",
       "    <tr>\n",
       "      <th>7658</th>\n",
       "      <td>Black Wall Street Burning</td>\n",
       "      <td>R</td>\n",
       "      <td>Drama</td>\n",
       "      <td>2020</td>\n",
       "      <td>February 7, 2020 (United States)</td>\n",
       "      <td>6.6</td>\n",
       "      <td>35.0</td>\n",
       "      <td>Marcus Brown</td>\n",
       "      <td>Dekoven Riggins</td>\n",
       "      <td>Dan Belcher</td>\n",
       "      <td>United States</td>\n",
       "      <td>5000.0</td>\n",
       "      <td>NaN</td>\n",
       "      <td>Notis Studio</td>\n",
       "      <td>78.0</td>\n",
       "    </tr>\n",
       "    <tr>\n",
       "      <th>7659</th>\n",
       "      <td>I Am Fear</td>\n",
       "      <td>Not Rated</td>\n",
       "      <td>Horror</td>\n",
       "      <td>2020</td>\n",
       "      <td>March 3, 2020 (United States)</td>\n",
       "      <td>3.4</td>\n",
       "      <td>447.0</td>\n",
       "      <td>Kevin Shulman</td>\n",
       "      <td>Kevin Shulman</td>\n",
       "      <td>Kristina Klebe</td>\n",
       "      <td>United States</td>\n",
       "      <td>NaN</td>\n",
       "      <td>13266.0</td>\n",
       "      <td>Roxwell Films</td>\n",
       "      <td>87.0</td>\n",
       "    </tr>\n",
       "    <tr>\n",
       "      <th>7660</th>\n",
       "      <td>Aloha Surf Hotel</td>\n",
       "      <td>NaN</td>\n",
       "      <td>Comedy</td>\n",
       "      <td>2020</td>\n",
       "      <td>November 5, 2020 (United States)</td>\n",
       "      <td>7.1</td>\n",
       "      <td>14.0</td>\n",
       "      <td>Stefan C. Schaefer</td>\n",
       "      <td>Stefan C. Schaefer</td>\n",
       "      <td>Augie Tulba</td>\n",
       "      <td>United States</td>\n",
       "      <td>NaN</td>\n",
       "      <td>NaN</td>\n",
       "      <td>Abominable Pictures</td>\n",
       "      <td>90.0</td>\n",
       "    </tr>\n",
       "    <tr>\n",
       "      <th>7661</th>\n",
       "      <td>Love by Drowning</td>\n",
       "      <td>R</td>\n",
       "      <td>Drama</td>\n",
       "      <td>2020</td>\n",
       "      <td>November 6, 2020 (United States)</td>\n",
       "      <td>NaN</td>\n",
       "      <td>NaN</td>\n",
       "      <td>Justin Kreinbrink</td>\n",
       "      <td>C.E. Poverman</td>\n",
       "      <td>Nicky Whelan</td>\n",
       "      <td>United States</td>\n",
       "      <td>1000000.0</td>\n",
       "      <td>NaN</td>\n",
       "      <td>Dow Jazz Films</td>\n",
       "      <td>121.0</td>\n",
       "    </tr>\n",
       "    <tr>\n",
       "      <th>7667</th>\n",
       "      <td>Tee em el</td>\n",
       "      <td>NaN</td>\n",
       "      <td>Horror</td>\n",
       "      <td>2020</td>\n",
       "      <td>August 19, 2020 (United States)</td>\n",
       "      <td>5.7</td>\n",
       "      <td>7.0</td>\n",
       "      <td>Pereko Mosia</td>\n",
       "      <td>Pereko Mosia</td>\n",
       "      <td>Siyabonga Mabaso</td>\n",
       "      <td>South Africa</td>\n",
       "      <td>NaN</td>\n",
       "      <td>NaN</td>\n",
       "      <td>PK 65 Films</td>\n",
       "      <td>102.0</td>\n",
       "    </tr>\n",
       "  </tbody>\n",
       "</table>\n",
       "<p>7657 rows × 15 columns</p>\n",
       "</div>"
      ],
      "text/plain": [
       "                                                name     rating      genre  \\\n",
       "0                                        The Shining          R      Drama   \n",
       "1                                    The Blue Lagoon          R  Adventure   \n",
       "2     Star Wars: Episode V - The Empire Strikes Back         PG     Action   \n",
       "3                                          Airplane!         PG     Comedy   \n",
       "4                                         Caddyshack          R     Comedy   \n",
       "...                                              ...        ...        ...   \n",
       "7658                       Black Wall Street Burning          R      Drama   \n",
       "7659                                       I Am Fear  Not Rated     Horror   \n",
       "7660                                Aloha Surf Hotel        NaN     Comedy   \n",
       "7661                                Love by Drowning          R      Drama   \n",
       "7667                                       Tee em el        NaN     Horror   \n",
       "\n",
       "      year                          released  score      votes  \\\n",
       "0     1980     June 13, 1980 (United States)    8.4   927000.0   \n",
       "1     1980      July 2, 1980 (United States)    5.8    65000.0   \n",
       "2     1980     June 20, 1980 (United States)    8.7  1200000.0   \n",
       "3     1980      July 2, 1980 (United States)    7.7   221000.0   \n",
       "4     1980     July 25, 1980 (United States)    7.3   108000.0   \n",
       "...    ...                               ...    ...        ...   \n",
       "7658  2020  February 7, 2020 (United States)    6.6       35.0   \n",
       "7659  2020     March 3, 2020 (United States)    3.4      447.0   \n",
       "7660  2020  November 5, 2020 (United States)    7.1       14.0   \n",
       "7661  2020  November 6, 2020 (United States)    NaN        NaN   \n",
       "7667  2020   August 19, 2020 (United States)    5.7        7.0   \n",
       "\n",
       "                director                   writer              star  \\\n",
       "0        Stanley Kubrick             Stephen King    Jack Nicholson   \n",
       "1         Randal Kleiser  Henry De Vere Stacpoole    Brooke Shields   \n",
       "2         Irvin Kershner           Leigh Brackett       Mark Hamill   \n",
       "3           Jim Abrahams             Jim Abrahams       Robert Hays   \n",
       "4           Harold Ramis       Brian Doyle-Murray       Chevy Chase   \n",
       "...                  ...                      ...               ...   \n",
       "7658        Marcus Brown          Dekoven Riggins       Dan Belcher   \n",
       "7659       Kevin Shulman            Kevin Shulman    Kristina Klebe   \n",
       "7660  Stefan C. Schaefer       Stefan C. Schaefer       Augie Tulba   \n",
       "7661   Justin Kreinbrink            C.E. Poverman      Nicky Whelan   \n",
       "7667        Pereko Mosia             Pereko Mosia  Siyabonga Mabaso   \n",
       "\n",
       "             country      budget        gross              company  runtime  \n",
       "0     United Kingdom  19000000.0   46998772.0         Warner Bros.    146.0  \n",
       "1      United States   4500000.0   58853106.0    Columbia Pictures    104.0  \n",
       "2      United States  18000000.0  538375067.0            Lucasfilm    124.0  \n",
       "3      United States   3500000.0   83453539.0   Paramount Pictures     88.0  \n",
       "4      United States   6000000.0   39846344.0       Orion Pictures     98.0  \n",
       "...              ...         ...          ...                  ...      ...  \n",
       "7658   United States      5000.0          NaN         Notis Studio     78.0  \n",
       "7659   United States         NaN      13266.0        Roxwell Films     87.0  \n",
       "7660   United States         NaN          NaN  Abominable Pictures     90.0  \n",
       "7661   United States   1000000.0          NaN       Dow Jazz Films    121.0  \n",
       "7667    South Africa         NaN          NaN          PK 65 Films    102.0  \n",
       "\n",
       "[7657 rows x 15 columns]"
      ]
     },
     "execution_count": 9,
     "metadata": {},
     "output_type": "execute_result"
    }
   ],
   "source": [
    "# removing rows where the data presence is not there in continous manner\n",
    "df.drop(df[df.index == k[0]].index, inplace = True)\n",
    "i = 0\n",
    "while i+1 <len(k):\n",
    "    if k[i] + 1 == k[i + 1]:\n",
    "        \n",
    "        df.drop(df[ df.index == k[i]].index, inplace = True )\n",
    "    i = i + 1\n",
    "df"
   ]
  },
  {
   "cell_type": "code",
   "execution_count": 10,
   "id": "251cb406",
   "metadata": {
    "scrolled": true
   },
   "outputs": [],
   "source": [
    "# data cleaning by removing empty values\n",
    "df.ffill( axis = 0, inplace = True)"
   ]
  },
  {
   "cell_type": "code",
   "execution_count": 11,
   "id": "fc231f9a",
   "metadata": {
    "scrolled": true
   },
   "outputs": [
    {
     "data": {
      "text/plain": [
       "name        0\n",
       "rating      0\n",
       "genre       0\n",
       "year        0\n",
       "released    0\n",
       "score       0\n",
       "votes       0\n",
       "director    0\n",
       "writer      0\n",
       "star        0\n",
       "country     0\n",
       "budget      0\n",
       "gross       0\n",
       "company     0\n",
       "runtime     0\n",
       "dtype: int64"
      ]
     },
     "execution_count": 11,
     "metadata": {},
     "output_type": "execute_result"
    }
   ],
   "source": [
    "df.isna().sum()"
   ]
  },
  {
   "cell_type": "code",
   "execution_count": 12,
   "id": "5dff35e3",
   "metadata": {
    "scrolled": true
   },
   "outputs": [
    {
     "name": "stdout",
     "output_type": "stream",
     "text": [
      "votes\n",
      "budget\n",
      "gross\n",
      "runtime\n"
     ]
    }
   ],
   "source": [
    "# check for columns where \n",
    "for index,i in enumerate(df.columns):\n",
    "    if df[i].dtype == \"float\" and i != \"score\":\n",
    "        print(i)\n",
    "        df[i] = df[i].astype(\"int64\")"
   ]
  },
  {
   "cell_type": "code",
   "execution_count": 13,
   "id": "488adcbf",
   "metadata": {},
   "outputs": [
    {
     "data": {
      "text/html": [
       "<div>\n",
       "<style scoped>\n",
       "    .dataframe tbody tr th:only-of-type {\n",
       "        vertical-align: middle;\n",
       "    }\n",
       "\n",
       "    .dataframe tbody tr th {\n",
       "        vertical-align: top;\n",
       "    }\n",
       "\n",
       "    .dataframe thead th {\n",
       "        text-align: right;\n",
       "    }\n",
       "</style>\n",
       "<table border=\"1\" class=\"dataframe\">\n",
       "  <thead>\n",
       "    <tr style=\"text-align: right;\">\n",
       "      <th></th>\n",
       "      <th>name</th>\n",
       "      <th>rating</th>\n",
       "      <th>genre</th>\n",
       "      <th>year</th>\n",
       "      <th>released</th>\n",
       "      <th>score</th>\n",
       "      <th>votes</th>\n",
       "      <th>director</th>\n",
       "      <th>writer</th>\n",
       "      <th>star</th>\n",
       "      <th>country</th>\n",
       "      <th>budget</th>\n",
       "      <th>gross</th>\n",
       "      <th>company</th>\n",
       "      <th>runtime</th>\n",
       "    </tr>\n",
       "  </thead>\n",
       "  <tbody>\n",
       "    <tr>\n",
       "      <th>0</th>\n",
       "      <td>The Shining</td>\n",
       "      <td>R</td>\n",
       "      <td>Drama</td>\n",
       "      <td>1980</td>\n",
       "      <td>June 13, 1980 (United States)</td>\n",
       "      <td>8.4</td>\n",
       "      <td>927000</td>\n",
       "      <td>Stanley Kubrick</td>\n",
       "      <td>Stephen King</td>\n",
       "      <td>Jack Nicholson</td>\n",
       "      <td>United Kingdom</td>\n",
       "      <td>19000000</td>\n",
       "      <td>46998772</td>\n",
       "      <td>Warner Bros.</td>\n",
       "      <td>146</td>\n",
       "    </tr>\n",
       "    <tr>\n",
       "      <th>1</th>\n",
       "      <td>The Blue Lagoon</td>\n",
       "      <td>R</td>\n",
       "      <td>Adventure</td>\n",
       "      <td>1980</td>\n",
       "      <td>July 2, 1980 (United States)</td>\n",
       "      <td>5.8</td>\n",
       "      <td>65000</td>\n",
       "      <td>Randal Kleiser</td>\n",
       "      <td>Henry De Vere Stacpoole</td>\n",
       "      <td>Brooke Shields</td>\n",
       "      <td>United States</td>\n",
       "      <td>4500000</td>\n",
       "      <td>58853106</td>\n",
       "      <td>Columbia Pictures</td>\n",
       "      <td>104</td>\n",
       "    </tr>\n",
       "    <tr>\n",
       "      <th>2</th>\n",
       "      <td>Star Wars: Episode V - The Empire Strikes Back</td>\n",
       "      <td>PG</td>\n",
       "      <td>Action</td>\n",
       "      <td>1980</td>\n",
       "      <td>June 20, 1980 (United States)</td>\n",
       "      <td>8.7</td>\n",
       "      <td>1200000</td>\n",
       "      <td>Irvin Kershner</td>\n",
       "      <td>Leigh Brackett</td>\n",
       "      <td>Mark Hamill</td>\n",
       "      <td>United States</td>\n",
       "      <td>18000000</td>\n",
       "      <td>538375067</td>\n",
       "      <td>Lucasfilm</td>\n",
       "      <td>124</td>\n",
       "    </tr>\n",
       "    <tr>\n",
       "      <th>3</th>\n",
       "      <td>Airplane!</td>\n",
       "      <td>PG</td>\n",
       "      <td>Comedy</td>\n",
       "      <td>1980</td>\n",
       "      <td>July 2, 1980 (United States)</td>\n",
       "      <td>7.7</td>\n",
       "      <td>221000</td>\n",
       "      <td>Jim Abrahams</td>\n",
       "      <td>Jim Abrahams</td>\n",
       "      <td>Robert Hays</td>\n",
       "      <td>United States</td>\n",
       "      <td>3500000</td>\n",
       "      <td>83453539</td>\n",
       "      <td>Paramount Pictures</td>\n",
       "      <td>88</td>\n",
       "    </tr>\n",
       "    <tr>\n",
       "      <th>4</th>\n",
       "      <td>Caddyshack</td>\n",
       "      <td>R</td>\n",
       "      <td>Comedy</td>\n",
       "      <td>1980</td>\n",
       "      <td>July 25, 1980 (United States)</td>\n",
       "      <td>7.3</td>\n",
       "      <td>108000</td>\n",
       "      <td>Harold Ramis</td>\n",
       "      <td>Brian Doyle-Murray</td>\n",
       "      <td>Chevy Chase</td>\n",
       "      <td>United States</td>\n",
       "      <td>6000000</td>\n",
       "      <td>39846344</td>\n",
       "      <td>Orion Pictures</td>\n",
       "      <td>98</td>\n",
       "    </tr>\n",
       "    <tr>\n",
       "      <th>...</th>\n",
       "      <td>...</td>\n",
       "      <td>...</td>\n",
       "      <td>...</td>\n",
       "      <td>...</td>\n",
       "      <td>...</td>\n",
       "      <td>...</td>\n",
       "      <td>...</td>\n",
       "      <td>...</td>\n",
       "      <td>...</td>\n",
       "      <td>...</td>\n",
       "      <td>...</td>\n",
       "      <td>...</td>\n",
       "      <td>...</td>\n",
       "      <td>...</td>\n",
       "      <td>...</td>\n",
       "    </tr>\n",
       "    <tr>\n",
       "      <th>7652</th>\n",
       "      <td>Black Wall Street Burning</td>\n",
       "      <td>R</td>\n",
       "      <td>Drama</td>\n",
       "      <td>2020</td>\n",
       "      <td>February 7, 2020 (United States)</td>\n",
       "      <td>6.6</td>\n",
       "      <td>35</td>\n",
       "      <td>Marcus Brown</td>\n",
       "      <td>Dekoven Riggins</td>\n",
       "      <td>Dan Belcher</td>\n",
       "      <td>United States</td>\n",
       "      <td>5000</td>\n",
       "      <td>25818882</td>\n",
       "      <td>Notis Studio</td>\n",
       "      <td>78</td>\n",
       "    </tr>\n",
       "    <tr>\n",
       "      <th>7653</th>\n",
       "      <td>I Am Fear</td>\n",
       "      <td>Not Rated</td>\n",
       "      <td>Horror</td>\n",
       "      <td>2020</td>\n",
       "      <td>March 3, 2020 (United States)</td>\n",
       "      <td>3.4</td>\n",
       "      <td>447</td>\n",
       "      <td>Kevin Shulman</td>\n",
       "      <td>Kevin Shulman</td>\n",
       "      <td>Kristina Klebe</td>\n",
       "      <td>United States</td>\n",
       "      <td>5000</td>\n",
       "      <td>13266</td>\n",
       "      <td>Roxwell Films</td>\n",
       "      <td>87</td>\n",
       "    </tr>\n",
       "    <tr>\n",
       "      <th>7654</th>\n",
       "      <td>Aloha Surf Hotel</td>\n",
       "      <td>Not Rated</td>\n",
       "      <td>Comedy</td>\n",
       "      <td>2020</td>\n",
       "      <td>November 5, 2020 (United States)</td>\n",
       "      <td>7.1</td>\n",
       "      <td>14</td>\n",
       "      <td>Stefan C. Schaefer</td>\n",
       "      <td>Stefan C. Schaefer</td>\n",
       "      <td>Augie Tulba</td>\n",
       "      <td>United States</td>\n",
       "      <td>5000</td>\n",
       "      <td>13266</td>\n",
       "      <td>Abominable Pictures</td>\n",
       "      <td>90</td>\n",
       "    </tr>\n",
       "    <tr>\n",
       "      <th>7655</th>\n",
       "      <td>Love by Drowning</td>\n",
       "      <td>R</td>\n",
       "      <td>Drama</td>\n",
       "      <td>2020</td>\n",
       "      <td>November 6, 2020 (United States)</td>\n",
       "      <td>7.1</td>\n",
       "      <td>14</td>\n",
       "      <td>Justin Kreinbrink</td>\n",
       "      <td>C.E. Poverman</td>\n",
       "      <td>Nicky Whelan</td>\n",
       "      <td>United States</td>\n",
       "      <td>1000000</td>\n",
       "      <td>13266</td>\n",
       "      <td>Dow Jazz Films</td>\n",
       "      <td>121</td>\n",
       "    </tr>\n",
       "    <tr>\n",
       "      <th>7656</th>\n",
       "      <td>Tee em el</td>\n",
       "      <td>R</td>\n",
       "      <td>Horror</td>\n",
       "      <td>2020</td>\n",
       "      <td>August 19, 2020 (United States)</td>\n",
       "      <td>5.7</td>\n",
       "      <td>7</td>\n",
       "      <td>Pereko Mosia</td>\n",
       "      <td>Pereko Mosia</td>\n",
       "      <td>Siyabonga Mabaso</td>\n",
       "      <td>South Africa</td>\n",
       "      <td>1000000</td>\n",
       "      <td>13266</td>\n",
       "      <td>PK 65 Films</td>\n",
       "      <td>102</td>\n",
       "    </tr>\n",
       "  </tbody>\n",
       "</table>\n",
       "<p>7657 rows × 15 columns</p>\n",
       "</div>"
      ],
      "text/plain": [
       "                                                name     rating      genre  \\\n",
       "0                                        The Shining          R      Drama   \n",
       "1                                    The Blue Lagoon          R  Adventure   \n",
       "2     Star Wars: Episode V - The Empire Strikes Back         PG     Action   \n",
       "3                                          Airplane!         PG     Comedy   \n",
       "4                                         Caddyshack          R     Comedy   \n",
       "...                                              ...        ...        ...   \n",
       "7652                       Black Wall Street Burning          R      Drama   \n",
       "7653                                       I Am Fear  Not Rated     Horror   \n",
       "7654                                Aloha Surf Hotel  Not Rated     Comedy   \n",
       "7655                                Love by Drowning          R      Drama   \n",
       "7656                                       Tee em el          R     Horror   \n",
       "\n",
       "      year                          released  score    votes  \\\n",
       "0     1980     June 13, 1980 (United States)    8.4   927000   \n",
       "1     1980      July 2, 1980 (United States)    5.8    65000   \n",
       "2     1980     June 20, 1980 (United States)    8.7  1200000   \n",
       "3     1980      July 2, 1980 (United States)    7.7   221000   \n",
       "4     1980     July 25, 1980 (United States)    7.3   108000   \n",
       "...    ...                               ...    ...      ...   \n",
       "7652  2020  February 7, 2020 (United States)    6.6       35   \n",
       "7653  2020     March 3, 2020 (United States)    3.4      447   \n",
       "7654  2020  November 5, 2020 (United States)    7.1       14   \n",
       "7655  2020  November 6, 2020 (United States)    7.1       14   \n",
       "7656  2020   August 19, 2020 (United States)    5.7        7   \n",
       "\n",
       "                director                   writer              star  \\\n",
       "0        Stanley Kubrick             Stephen King    Jack Nicholson   \n",
       "1         Randal Kleiser  Henry De Vere Stacpoole    Brooke Shields   \n",
       "2         Irvin Kershner           Leigh Brackett       Mark Hamill   \n",
       "3           Jim Abrahams             Jim Abrahams       Robert Hays   \n",
       "4           Harold Ramis       Brian Doyle-Murray       Chevy Chase   \n",
       "...                  ...                      ...               ...   \n",
       "7652        Marcus Brown          Dekoven Riggins       Dan Belcher   \n",
       "7653       Kevin Shulman            Kevin Shulman    Kristina Klebe   \n",
       "7654  Stefan C. Schaefer       Stefan C. Schaefer       Augie Tulba   \n",
       "7655   Justin Kreinbrink            C.E. Poverman      Nicky Whelan   \n",
       "7656        Pereko Mosia             Pereko Mosia  Siyabonga Mabaso   \n",
       "\n",
       "             country    budget      gross              company  runtime  \n",
       "0     United Kingdom  19000000   46998772         Warner Bros.      146  \n",
       "1      United States   4500000   58853106    Columbia Pictures      104  \n",
       "2      United States  18000000  538375067            Lucasfilm      124  \n",
       "3      United States   3500000   83453539   Paramount Pictures       88  \n",
       "4      United States   6000000   39846344       Orion Pictures       98  \n",
       "...              ...       ...        ...                  ...      ...  \n",
       "7652   United States      5000   25818882         Notis Studio       78  \n",
       "7653   United States      5000      13266        Roxwell Films       87  \n",
       "7654   United States      5000      13266  Abominable Pictures       90  \n",
       "7655   United States   1000000      13266       Dow Jazz Films      121  \n",
       "7656    South Africa   1000000      13266          PK 65 Films      102  \n",
       "\n",
       "[7657 rows x 15 columns]"
      ]
     },
     "execution_count": 13,
     "metadata": {},
     "output_type": "execute_result"
    }
   ],
   "source": [
    "# correcting index\n",
    "df.index = range(df.shape[0])\n",
    "df"
   ]
  },
  {
   "cell_type": "code",
   "execution_count": 14,
   "id": "1332c76d",
   "metadata": {},
   "outputs": [
    {
     "data": {
      "text/plain": [
       "7657"
      ]
     },
     "execution_count": 14,
     "metadata": {},
     "output_type": "execute_result"
    }
   ],
   "source": [
    "len(list(df.released))"
   ]
  },
  {
   "cell_type": "code",
   "execution_count": 31,
   "id": "9e6f8db4",
   "metadata": {},
   "outputs": [],
   "source": [
    "# getting the values from the array then reversing the string and also checking if there is any deviation by using a flag variable"
   ]
  },
  {
   "cell_type": "code",
   "execution_count": 37,
   "id": "86e1d4af",
   "metadata": {},
   "outputs": [],
   "source": [
    "a = []\n",
    "i = 0\n",
    "notfound= []\n",
    "found = []\n",
    "while i  < len(df.released) :\n",
    "    j = len(df.released[i]) - 1\n",
    "    stat = False\n",
    "    while j > 0:        \n",
    "        s = \"\"\n",
    "        if df.released[i][j] == \"(\" and df.released[i][j - 1] == \" \":             \n",
    "            stat = True\n",
    "            s = s + df.released[i][j - 2] + df.released[i][j - 3] + df.released[i][j - 4] + df.released[i][j - 5]             \n",
    "            a.append(s)\n",
    "            break\n",
    "        j = j - 1\n",
    "    j = 0\n",
    "    if stat == False:        \n",
    "        notfound.append(i)        \n",
    "    else:       \n",
    "        found.append(i)\n",
    "    i = i + 1\n"
   ]
  },
  {
   "cell_type": "code",
   "execution_count": 17,
   "id": "31e3c0c7",
   "metadata": {
    "scrolled": false
   },
   "outputs": [
    {
     "name": "stdout",
     "output_type": "stream",
     "text": [
      "[]\n"
     ]
    },
    {
     "data": {
      "text/plain": [
       "0"
      ]
     },
     "execution_count": 17,
     "metadata": {},
     "output_type": "execute_result"
    }
   ],
   "source": [
    "# checking if there are any deviations which got appended\n",
    "print(notfound)\n",
    "len(notfound)"
   ]
  },
  {
   "cell_type": "code",
   "execution_count": 18,
   "id": "cef52536",
   "metadata": {},
   "outputs": [],
   "source": [
    "# reversing the string and replacing the value as int data type"
   ]
  },
  {
   "cell_type": "code",
   "execution_count": 19,
   "id": "a59c4689",
   "metadata": {
    "scrolled": false
   },
   "outputs": [],
   "source": [
    "i = 0 \n",
    "j = 0\n",
    "reversedArr = []\n",
    "while i < len(a):\n",
    "    s= \"\"\n",
    "    s = s + a[i][-1] + a[i][-2] + a[i][-3] + a[i][-4]\n",
    "    reversedArr.append(int(s))\n",
    "    i = i + 1\n"
   ]
  },
  {
   "cell_type": "code",
   "execution_count": 20,
   "id": "48f4619e",
   "metadata": {
    "scrolled": false
   },
   "outputs": [
    {
     "name": "stdout",
     "output_type": "stream",
     "text": [
      "7657 is the length of reversed arr\n"
     ]
    }
   ],
   "source": [
    "# result achieved\n",
    "print(len(reversedArr), \"is the length of reversed arr\")"
   ]
  },
  {
   "cell_type": "code",
   "execution_count": 21,
   "id": "e60212aa",
   "metadata": {},
   "outputs": [
    {
     "data": {
      "text/plain": [
       "False"
      ]
     },
     "execution_count": 21,
     "metadata": {},
     "output_type": "execute_result"
    }
   ],
   "source": [
    "# there is deviation in df.year as release date and the release year dont match\n",
    "reversedArr == list(df.year)"
   ]
  },
  {
   "cell_type": "code",
   "execution_count": 22,
   "id": "3cdbf515",
   "metadata": {},
   "outputs": [
    {
     "data": {
      "text/plain": [
       "7657"
      ]
     },
     "execution_count": 22,
     "metadata": {},
     "output_type": "execute_result"
    }
   ],
   "source": [
    "len(list(df.year))"
   ]
  },
  {
   "cell_type": "code",
   "execution_count": 23,
   "id": "667cf147",
   "metadata": {},
   "outputs": [
    {
     "data": {
      "text/plain": [
       "0       1980\n",
       "1       1980\n",
       "2       1980\n",
       "3       1980\n",
       "4       1980\n",
       "        ... \n",
       "7652    2020\n",
       "7653    2020\n",
       "7654    2020\n",
       "7655    2020\n",
       "7656    2020\n",
       "Length: 7657, dtype: int64"
      ]
     },
     "execution_count": 23,
     "metadata": {},
     "output_type": "execute_result"
    }
   ],
   "source": [
    "newReleased = pd.Series(reversedArr)\n",
    "newReleased"
   ]
  },
  {
   "cell_type": "code",
   "execution_count": 24,
   "id": "04873ff5",
   "metadata": {},
   "outputs": [],
   "source": [
    "df[\"releaseYear\"] = newReleased"
   ]
  },
  {
   "cell_type": "code",
   "execution_count": 25,
   "id": "22a1ae1e",
   "metadata": {},
   "outputs": [],
   "source": [
    "# drop any duplicates\n",
    "df = df.drop_duplicates()"
   ]
  },
  {
   "cell_type": "code",
   "execution_count": 26,
   "id": "5f671824",
   "metadata": {
    "scrolled": true
   },
   "outputs": [
    {
     "data": {
      "text/plain": [
       "7657"
      ]
     },
     "execution_count": 26,
     "metadata": {},
     "output_type": "execute_result"
    }
   ],
   "source": [
    "# no duplicates present\n",
    "df.shape[0]"
   ]
  },
  {
   "cell_type": "markdown",
   "id": "c2a73a8a",
   "metadata": {},
   "source": [
    "#### Assumptions:\n",
    "#### 1.  Budget has high correlation with gross\n",
    "#### 2.  Director has high correlation with gross\n",
    "#### 3.  Star has high correlation with gross\n",
    "#### 4. Company has high correlation with gross\n",
    "#### 5. Votes has high correlation with gross"
   ]
  },
  {
   "cell_type": "markdown",
   "id": "e11cd100",
   "metadata": {},
   "source": [
    "### Vizualization"
   ]
  },
  {
   "cell_type": "code",
   "execution_count": 36,
   "id": "6b7d247b",
   "metadata": {
    "scrolled": true
   },
   "outputs": [
    {
     "data": {
      "image/png": "[encoded data removed]",
      "text/plain": [
       "<Figure size 720x648 with 1 Axes>"
      ]
     },
     "metadata": {},
     "output_type": "display_data"
    }
   ],
   "source": [
    "# correlation of Budget and gross\n",
    "plt.figure(figsize = (10,9))\n",
    "plt.scatter(x=  df[\"budget\"], y = df.gross)\n",
    "plt.title(\"Budget vs Gross\")\n",
    "plt.xlabel(\"Budget in 100 millions\")\n",
    "plt.ylabel(\"Gross in Billions\")\n",
    "plt.show()"
   ]
  },
  {
   "cell_type": "code",
   "execution_count": 35,
   "id": "9f59430a",
   "metadata": {},
   "outputs": [
    {
     "data": {
      "text/plain": [
       "<AxesSubplot:xlabel='budget', ylabel='gross'>"
      ]
     },
     "execution_count": 35,
     "metadata": {},
     "output_type": "execute_result"
    },
    {
     "data": {
      "image/png": "[encoded data removed]",
      "text/plain": [
       "<Figure size 842.4x595.44 with 1 Axes>"
      ]
     },
     "metadata": {},
     "output_type": "display_data"
    }
   ],
   "source": [
    "# correlation using seaborn\n",
    "a4_dims = (11.7, 8.27)\n",
    "fig, ax = plt.subplots(figsize=a4_dims)\n",
    "sns.regplot(x=  df[\"budget\"], y = df.gross, data = df, scatter_kws = {\"color\":\"red\"}, line_kws = {\"color\":\"blue\"})"
   ]
  },
  {
   "cell_type": "code",
   "execution_count": 34,
   "id": "1a5e3aaf",
   "metadata": {
    "scrolled": false
   },
   "outputs": [
    {
     "data": {
      "text/html": [
       "<div>\n",
       "<style scoped>\n",
       "    .dataframe tbody tr th:only-of-type {\n",
       "        vertical-align: middle;\n",
       "    }\n",
       "\n",
       "    .dataframe tbody tr th {\n",
       "        vertical-align: top;\n",
       "    }\n",
       "\n",
       "    .dataframe thead th {\n",
       "        text-align: right;\n",
       "    }\n",
       "</style>\n",
       "<table border=\"1\" class=\"dataframe\">\n",
       "  <thead>\n",
       "    <tr style=\"text-align: right;\">\n",
       "      <th></th>\n",
       "      <th>year</th>\n",
       "      <th>score</th>\n",
       "      <th>votes</th>\n",
       "      <th>budget</th>\n",
       "      <th>gross</th>\n",
       "      <th>runtime</th>\n",
       "      <th>releaseYear</th>\n",
       "    </tr>\n",
       "  </thead>\n",
       "  <tbody>\n",
       "    <tr>\n",
       "      <th>year</th>\n",
       "      <td>1.000000</td>\n",
       "      <td>0.099884</td>\n",
       "      <td>0.224021</td>\n",
       "      <td>0.336821</td>\n",
       "      <td>0.262560</td>\n",
       "      <td>0.120885</td>\n",
       "      <td>0.997405</td>\n",
       "    </tr>\n",
       "    <tr>\n",
       "      <th>score</th>\n",
       "      <td>0.099884</td>\n",
       "      <td>1.000000</td>\n",
       "      <td>0.409497</td>\n",
       "      <td>0.080416</td>\n",
       "      <td>0.186354</td>\n",
       "      <td>0.399082</td>\n",
       "      <td>0.107738</td>\n",
       "    </tr>\n",
       "    <tr>\n",
       "      <th>votes</th>\n",
       "      <td>0.224021</td>\n",
       "      <td>0.409497</td>\n",
       "      <td>1.000000</td>\n",
       "      <td>0.449108</td>\n",
       "      <td>0.632606</td>\n",
       "      <td>0.309444</td>\n",
       "      <td>0.219484</td>\n",
       "    </tr>\n",
       "    <tr>\n",
       "      <th>budget</th>\n",
       "      <td>0.336821</td>\n",
       "      <td>0.080416</td>\n",
       "      <td>0.449108</td>\n",
       "      <td>1.000000</td>\n",
       "      <td>0.702222</td>\n",
       "      <td>0.263729</td>\n",
       "      <td>0.330232</td>\n",
       "    </tr>\n",
       "    <tr>\n",
       "      <th>gross</th>\n",
       "      <td>0.262560</td>\n",
       "      <td>0.186354</td>\n",
       "      <td>0.632606</td>\n",
       "      <td>0.702222</td>\n",
       "      <td>1.000000</td>\n",
       "      <td>0.244847</td>\n",
       "      <td>0.255555</td>\n",
       "    </tr>\n",
       "    <tr>\n",
       "      <th>runtime</th>\n",
       "      <td>0.120885</td>\n",
       "      <td>0.399082</td>\n",
       "      <td>0.309444</td>\n",
       "      <td>0.263729</td>\n",
       "      <td>0.244847</td>\n",
       "      <td>1.000000</td>\n",
       "      <td>0.120715</td>\n",
       "    </tr>\n",
       "    <tr>\n",
       "      <th>releaseYear</th>\n",
       "      <td>0.997405</td>\n",
       "      <td>0.107738</td>\n",
       "      <td>0.219484</td>\n",
       "      <td>0.330232</td>\n",
       "      <td>0.255555</td>\n",
       "      <td>0.120715</td>\n",
       "      <td>1.000000</td>\n",
       "    </tr>\n",
       "  </tbody>\n",
       "</table>\n",
       "</div>"
      ],
      "text/plain": [
       "                 year     score     votes    budget     gross   runtime  \\\n",
       "year         1.000000  0.099884  0.224021  0.336821  0.262560  0.120885   \n",
       "score        0.099884  1.000000  0.409497  0.080416  0.186354  0.399082   \n",
       "votes        0.224021  0.409497  1.000000  0.449108  0.632606  0.309444   \n",
       "budget       0.336821  0.080416  0.449108  1.000000  0.702222  0.263729   \n",
       "gross        0.262560  0.186354  0.632606  0.702222  1.000000  0.244847   \n",
       "runtime      0.120885  0.399082  0.309444  0.263729  0.244847  1.000000   \n",
       "releaseYear  0.997405  0.107738  0.219484  0.330232  0.255555  0.120715   \n",
       "\n",
       "             releaseYear  \n",
       "year            0.997405  \n",
       "score           0.107738  \n",
       "votes           0.219484  \n",
       "budget          0.330232  \n",
       "gross           0.255555  \n",
       "runtime         0.120715  \n",
       "releaseYear     1.000000  "
      ]
     },
     "execution_count": 34,
     "metadata": {},
     "output_type": "execute_result"
    }
   ],
   "source": [
    "# df.corr to see correlation in different columns (numerical only)\n",
    "# correlation method for correlation_matrix used is pearson (default) out of  Pearson, kendall and spearman\n",
    "correlation_matrix = df.corr()\n",
    "correlation_matrix"
   ]
  },
  {
   "cell_type": "markdown",
   "id": "39f34ea2",
   "metadata": {},
   "source": [
    "#### Budget has high correlation with gross, assumption is right"
   ]
  },
  {
   "cell_type": "code",
   "execution_count": 30,
   "id": "8e1f8cb7",
   "metadata": {},
   "outputs": [
    {
     "data": {
      "text/plain": [
       "Text(0.5, 1.0, 'Correlation of important factors')"
      ]
     },
     "execution_count": 30,
     "metadata": {},
     "output_type": "execute_result"
    },
    {
     "data": {
      "image/png": "[encoded data removed]",
      "text/plain": [
       "<Figure size 842.4x595.44 with 2 Axes>"
      ]
     },
     "metadata": {},
     "output_type": "display_data"
    }
   ],
   "source": [
    "# creating heatmap using correlation_matrix\n",
    "a4_dims = (11.7, 8.27)\n",
    "fig, ax = plt.subplots(figsize=a4_dims)\n",
    "sns.heatmap(correlation_matrix, annot = True)\n",
    "plt.title(\"Correlation of important factors\", fontsize=15, fontweight = \"bold\")"
   ]
  }
 ],
 "metadata": {
  "kernelspec": {
   "display_name": "Python 3 (ipykernel)",
   "language": "python",
   "name": "python3"
  },
  "language_info": {
   "codemirror_mode": {
    "name": "ipython",
    "version": 3
   },
   "file_extension": ".py",
   "mimetype": "text/x-python",
   "name": "python",
   "nbconvert_exporter": "python",
   "pygments_lexer": "ipython3",
   "version": "3.8.8"
  }
 },
 "nbformat": 4,
 "nbformat_minor": 5
}
